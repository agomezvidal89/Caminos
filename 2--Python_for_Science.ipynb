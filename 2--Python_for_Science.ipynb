{
 "cells": [
  {
   "cell_type": "markdown",
   "metadata": {},
   "source": [
    "# Python for Science\n",
    "\n",
    "\n",
    "Python is free, it is open source, and it has a huge community.\n",
    "\n",
    "Python is one of the most popular and loved programming languages in the world!\n",
    "\n",
    "Many blogs come out every year listing the most popular programming languages.\n",
    "Python has been among the top choices for at least 5 years now.\n",
    "For example: [The 7 Most In-Demand Programming Languages of 2018](https://www.codingdojo.com/blog/7-most-in-demand-programming-languages-of-2018/), by CodingDojo; \n",
    "or the post [The Most In-Demand Programming Languages of 2018](https://www.thirdrepublic.com/blog/most-indemand-programming-languages-2018), on Third Republic. \n",
    "\n",
    "\n",
    "Python can be used for many things: managing databases, creating graphical user interfaces, making websites, and much more… including science. Because of the many uses, the world of Python includes many, many **Libraries** (you load the parts that you need, when you need them).\n",
    "\n",
    "In science, the two libraries that are king and queen of the world are: [NumPy](http://www.numpy.org), and [Matplotlib](https://matplotlib.org)."
   ]
  },
  {
   "cell_type": "markdown",
   "metadata": {},
   "source": [
    "## Numpy\n",
    "\n",
    "NumPy is for working with data in the form of arrays (vectors, matrices). It has a myriad built-in functions or methods that work on arrays directly. To load the library into your current session of interactive Python, into a saved Python script, or into a Jupyter notebook, you use:\n",
    "\n",
    "```python\n",
    "    import numpy\n",
    "```\n",
    "\n",
    "Tips:\n",
    "\n",
    "* a one-dimensional array (vector) has the form: `[1.0, 0.5, 2.5]`\n",
    "* a two-dimensional array (matrix) has the form: `[[ 1.0, 0.5, 2.5], [ 0.5, 1.1, 2.0]]`\n",
    "* the elements in an array are numbered with an index that **starts at 0**\n",
    "* the colon notation: in any index position, a `:` means \"all elements in this dimension\"\n",
    "* once `numpy` is loaded, its built-in functions are called like this: `numpy.function(arg)` (where `arg` is the function argument: arrays to operats on, and parameters)\n",
    "\n",
    "_Try it!_"
   ]
  },
  {
   "cell_type": "code",
   "execution_count": 1,
   "metadata": {},
   "outputs": [],
   "source": [
    "import numpy"
   ]
  },
  {
   "cell_type": "code",
   "execution_count": 2,
   "metadata": {
    "collapsed": true
   },
   "outputs": [],
   "source": [
    "# By the way: comments in code cells start with a hash.\n",
    "# here are two arrays, saved as variables x and y:\n",
    "x = numpy.array([1.0, 0.5, 2.5])\n",
    "y = numpy.array([[ 1.0, 0.5, 2.5], [ 0.5, 1.1, 2.0]])"
   ]
  },
  {
   "cell_type": "code",
   "execution_count": 3,
   "metadata": {},
   "outputs": [
    {
     "name": "stdout",
     "output_type": "stream",
     "text": [
      "[ 1.   0.5  2.5]\n"
     ]
    }
   ],
   "source": [
    "# The print function works on arrays:\n",
    "print(x)"
   ]
  },
  {
   "cell_type": "code",
   "execution_count": 4,
   "metadata": {},
   "outputs": [
    {
     "name": "stdout",
     "output_type": "stream",
     "text": [
      "[[ 1.   0.5  2.5]\n",
      " [ 0.5  1.1  2. ]]\n"
     ]
    }
   ],
   "source": [
    "print(y)"
   ]
  },
  {
   "cell_type": "code",
   "execution_count": 5,
   "metadata": {},
   "outputs": [
    {
     "data": {
      "text/plain": [
       "(2, 3)"
      ]
     },
     "execution_count": 5,
     "metadata": {},
     "output_type": "execute_result"
    }
   ],
   "source": [
    "numpy.shape(y)"
   ]
  },
  {
   "cell_type": "code",
   "execution_count": 6,
   "metadata": {},
   "outputs": [
    {
     "data": {
      "text/plain": [
       "(3,)"
      ]
     },
     "execution_count": 6,
     "metadata": {},
     "output_type": "execute_result"
    }
   ],
   "source": [
    "numpy.shape(x)"
   ]
  },
  {
   "cell_type": "markdown",
   "metadata": {},
   "source": [
    "Let's review what happened there. We first loaded `numpy`, giving us the full power to use arrays. We created two arrays: `x` and `y`… then we print `x` and we print `y`. They look nice. \n",
    "\n",
    "Numpy has a built-in function to find out the \"shape\" of an array, which means: _how many elements does this array have in each dimension?_ We find that `y` is a two-by-three array (it has two dimensions). \n",
    "\n",
    "What is the first element of `x`? We can use square brackets and the zero-index to find out:"
   ]
  },
  {
   "cell_type": "code",
   "execution_count": 7,
   "metadata": {},
   "outputs": [
    {
     "data": {
      "text/plain": [
       "1.0"
      ]
     },
     "execution_count": 7,
     "metadata": {},
     "output_type": "execute_result"
    }
   ],
   "source": [
    "x[0]"
   ]
  },
  {
   "cell_type": "markdown",
   "metadata": {},
   "source": [
    "**Exercise**: Now, try it yourself. What is the first element of `y`?"
   ]
  },
  {
   "cell_type": "code",
   "execution_count": null,
   "metadata": {},
   "outputs": [],
   "source": []
  },
  {
   "cell_type": "markdown",
   "metadata": {},
   "source": [
    "Right. The first element of `y` is a 3-wide array of numbers. If we want to access the first element of _this_ now, we use:"
   ]
  },
  {
   "cell_type": "code",
   "execution_count": 8,
   "metadata": {},
   "outputs": [
    {
     "data": {
      "text/plain": [
       "1.0"
      ]
     },
     "execution_count": 8,
     "metadata": {},
     "output_type": "execute_result"
    }
   ],
   "source": [
    "y[0][0]"
   ]
  },
  {
   "cell_type": "markdown",
   "metadata": {},
   "source": [
    "**Exercise**: Try picking out different elements of the array `y`…"
   ]
  },
  {
   "cell_type": "code",
   "execution_count": null,
   "metadata": {
    "collapsed": true
   },
   "outputs": [],
   "source": []
  },
  {
   "cell_type": "markdown",
   "metadata": {},
   "source": [
    "### We learned that:\n",
    "\n",
    "* The square brackets allow us to pick out the elements of an array using an index: `x[i]`\n",
    "* For a two-dimensional array, we can use two indices: `y[i][j]`\n",
    "* All indices start at zero.\n",
    "\n",
    "This is super powerful!"
   ]
  },
  {
   "cell_type": "markdown",
   "metadata": {},
   "source": [
    "## Matplotlib\n",
    "\n",
    "Matplotlib is for making all kinds of plots. To get an idea of the great variety of plots possibe, have a look at the online [Gallery](https://matplotlib.org/gallery.html). You can see that Matplotlib itself is a pretty big library. We can load a portion of the library (called a module) that has the basic plotting funtions with:\n",
    "\n",
    "```python\n",
    "    from matplotlib import pyplot\n",
    "```\n",
    "\n",
    "Once the `pyplot` module is loaded, its built-in functions are called like this: `pyplot.function(arg)` (where arg is the function argument). "
   ]
  },
  {
   "cell_type": "markdown",
   "metadata": {},
   "source": [
    "## An example: size of households in the US\n",
    "\n",
    "Did you know that the size of households—that is, the number of people living in each household—has been steadily decreasing in the US and many other countries? This has perhaps surprising consequences. Even if population growth slows down, or stops altogether, the number of households keeps increasing at a fast rate.\n",
    "\n",
    "More households means more $CO_2$ emissions! This is bad for the planet."
   ]
  },
  {
   "cell_type": "markdown",
   "metadata": {},
   "source": [
    "### Get the data\n",
    "\n",
    "Here, we're assuming that you have all the files from this tutorial, or are working on the lesson after launching Binder. In that case you have a dataset in the `data` folder.\n",
    "\n",
    "To load the data into two arrays, named `year` and `av-size`, execute the following cell:"
   ]
  },
  {
   "cell_type": "code",
   "execution_count": 9,
   "metadata": {},
   "outputs": [],
   "source": [
    "#Load the data from local disk \n",
    "year, av_size = numpy.loadtxt(fname='data/statistic_id183648.csv', delimiter=',', \n",
    "                              skiprows=1, unpack=True)"
   ]
  },
  {
   "cell_type": "code",
   "execution_count": 10,
   "metadata": {},
   "outputs": [
    {
     "name": "stdout",
     "output_type": "stream",
     "text": [
      "[ 2016.  2015.  2014.  2013.  2012.  2011.  2010.  2009.  2008.  2007.\n",
      "  2006.  2005.  2004.  2003.  2002.  2001.  2000.  1999.  1998.  1997.\n",
      "  1996.  1995.  1994.  1993.  1992.  1991.  1990.  1989.  1988.  1987.\n",
      "  1986.  1985.  1984.  1983.  1982.  1981.  1980.  1979.  1978.  1977.\n",
      "  1976.  1975.  1974.  1973.  1972.  1971.  1970.  1960.]\n"
     ]
    }
   ],
   "source": [
    "print(year)"
   ]
  },
  {
   "cell_type": "markdown",
   "metadata": {},
   "source": [
    "**Exercise**: Now print the variable `av_size`, correspondig to the average size of households (in numbers of people) for each year:"
   ]
  },
  {
   "cell_type": "code",
   "execution_count": null,
   "metadata": {
    "collapsed": true
   },
   "outputs": [],
   "source": []
  },
  {
   "cell_type": "markdown",
   "metadata": {},
   "source": [
    "Great! The next thing we want to do is make a plot of the changing size of households over the years. To do that, we need to load the `Matplotlib` module called `pyplot`:"
   ]
  },
  {
   "cell_type": "code",
   "execution_count": 11,
   "metadata": {},
   "outputs": [],
   "source": [
    "from matplotlib import pyplot\n",
    "%matplotlib inline"
   ]
  },
  {
   "cell_type": "markdown",
   "metadata": {},
   "source": [
    "What's this `from` business about?  `matplotlib` is a pretty big (and awesome!) library.  All that we need is a subset of the library for creating 2D plots, so we ask for the `pyplot` module of the `matplotlib` library.  \n",
    "\n",
    "Plotting the data is as easy as calling the function [`plot()`](http://matplotlib.org/1.5.1/api/pyplot_api.html#matplotlib.pyplot.plot) from the module `pyplot`. "
   ]
  },
  {
   "cell_type": "code",
   "execution_count": 12,
   "metadata": {},
   "outputs": [
    {
     "data": {
      "text/plain": [
       "[<matplotlib.lines.Line2D at 0x10ff57978>]"
      ]
     },
     "execution_count": 12,
     "metadata": {},
     "output_type": "execute_result"
    },
    {
     "data": {
      "image/png": "[encoded data removed]",
      "text/plain": [
       "<matplotlib.figure.Figure at 0x1096894a8>"
      ]
     },
     "metadata": {},
     "output_type": "display_data"
    }
   ],
   "source": [
    "pyplot.plot(year, av_size)"
   ]
  },
  {
   "cell_type": "markdown",
   "metadata": {},
   "source": [
    "But what if we'd like to get a title on this plot, or add labels to the axes? (We should always have labelled axes!). Also, we notice a long jump from the year 1960 to 1970: let's add markers to the plot and change the line style to a dotted line."
   ]
  },
  {
   "cell_type": "code",
   "execution_count": 13,
   "metadata": {},
   "outputs": [
    {
     "data": {
      "text/plain": [
       "<matplotlib.text.Text at 0x110238fd0>"
      ]
     },
     "execution_count": 13,
     "metadata": {},
     "output_type": "execute_result"
    },
    {
     "data": {
      "image/png": "[encoded data removed]",
      "text/plain": [
       "<matplotlib.figure.Figure at 0x10ff7b160>"
      ]
     },
     "metadata": {},
     "output_type": "display_data"
    }
   ],
   "source": [
    "pyplot.plot(year, av_size, linestyle=':', marker='o')\n",
    "pyplot.title(\"Household size in the US, 1960–2016 \\n\", fontsize=16)\n",
    "pyplot.ylabel(\"Average number of people per household\")"
   ]
  },
  {
   "cell_type": "markdown",
   "metadata": {},
   "source": [
    "**Exercise**: In the same cell above, now add a label on the x-axis, using the `pyplot.xlabel()` function, and re-execute it."
   ]
  },
  {
   "cell_type": "code",
   "execution_count": null,
   "metadata": {
    "collapsed": true
   },
   "outputs": [],
   "source": []
  },
  {
   "cell_type": "markdown",
   "metadata": {},
   "source": [
    "## Python for science, so far\n",
    "\n",
    "You learned about:\n",
    "\n",
    "* loading the Python libraries for science\n",
    "* using data in the form of arrays with the `numpy` library\n",
    "* accessing elements of an array\n",
    "* loading data from a file\n",
    "* plotting data with the `Matplotlib` library\n",
    "* adding title, labels to a plot, and changing the style"
   ]
  },
  {
   "cell_type": "markdown",
   "metadata": {},
   "source": [
    "# Data source\n",
    "\n",
    "* Data from the US Census Bureau of Labor Statistics downloaded from [https://www.statista.com/statistics/183648/average-size-of-households-in-the-us/](https://www.statista.com/statistics/183648/average-size-of-households-in-the-us/)"
   ]
  },
  {
   "cell_type": "markdown",
   "metadata": {},
   "source": [
    "# Next\n",
    "\n",
    "* [Earth temperature over time](http://nbviewer.jupyter.org/github/barbagroup/Caminos/blob/master/3--Earth_temperature_over_time.ipynb)"
   ]
  },
  {
   "cell_type": "markdown",
   "metadata": {},
   "source": [
    "---\n",
    "\n",
    "<p style=\"font-size:smaller\">(c) 2017 Lorena A. Barba, Natalia Clementi. Free to use under the Creative Commons Attribution <a href=\"https://creativecommons.org/licenses/by/4.0/\"> CC-BY 4.0 License</a>. Written for the tutorial <a href=\"https://github.com/barbagroup/Caminos\">\"Data Science for a Better World\"</a>, at the GW <a href=\"https://summer.gwu.edu/caminos\">_Caminos al Futuro_</a> Summer program.\n",
    "</p>"
   ]
  }
 ],
 "metadata": {
  "kernelspec": {
   "display_name": "Python 3",
   "language": "python",
   "name": "python3"
  },
  "language_info": {
   "codemirror_mode": {
    "name": "ipython",
    "version": 3
   },
   "file_extension": ".py",
   "mimetype": "text/x-python",
   "name": "python",
   "nbconvert_exporter": "python",
   "pygments_lexer": "ipython3",
   "version": "3.6.2"
  },
  "widgets": {
   "state": {},
   "version": "1.1.2"
  }
 },
 "nbformat": 4,
 "nbformat_minor": 1
}
