{
 "cells": [
  {
   "cell_type": "markdown",
   "metadata": {},
   "source": [
    "# What is Jupyter?\n",
    "\n",
    "Jupyter is a way of computing and doing data science right on your browser. It gives you a **Notebook** — this document we're looking at now. \n",
    "\n",
    "A Jupyter Notebook can contain: formatted text, images, videos, pretty math equations, and _executable computer code_. By \"executable,\" we mean that you run the bits of code, right in the document, and get some output displayed for you. This interactive way of computing, mixed with the text, allows you to tell a story (even to yourself) with extra powers!"
   ]
  },
  {
   "cell_type": "markdown",
   "metadata": {},
   "source": [
    "## Jupyter Notebook App\n",
    "\n",
    "If you are not running Jupyter locally on your computer (or on some cloud-hosted service), and want to see what the Jupyter Notebook App looks like, you can always try it at: [https://try.jupyter.org](https://try.jupyter.org). \n",
    "\n",
    "After a few seconds, you should see the _Dashboard_, showing a list of available files, like this:\n",
    "\n",
    "![dashboard](http://jupyter.readthedocs.io/en/latest/_images/tryjupyter_file.png)\n",
    "\n",
    "Click on the _New_ button on the top right, and choose \"Python 3\" from the pull-down options. You should get an empty notebook with a single empty code cell labeled `In[ ]`, and with a flashing cursor inside. You can start by trying any simple mathematical operation (like a calculator), and type `[shift] + [enter]` to execute it."
   ]
  },
  {
   "cell_type": "markdown",
   "metadata": {},
   "source": [
    "## Notebook cells\n",
    "\n",
    "The notebook uses _cells_ to break things up into bits of text, and bits of code. This here is a *Markdown* cell: it contains text that you can format using simple markers to get headings, bold, italic, bullet points, hyperlinks, and more.\n",
    "\n",
    "Here's a bit of history: Markdown was co-created by the legendary but tragic [Aaron Swartz](https://en.wikipedia.org/wiki/Aaron_Swartz).\n",
    "\n",
    "A few tips:\n",
    "\n",
    "* to create a title, use a hash to start the line: `# Title`\n",
    "* to create the next heading, use two hashes (and so on): `## Heading`\n",
    "* to italicize a word or phrase, enclose it in asterisks (or underdashes): `*italic*` or `_italic_`\n",
    "* to make it bold, enclose it with two asterisks: `**bolded**`\n",
    "* to make a hyperlink, use square and round brackets: `[hyperlinked text](url)`\n",
    "\n",
    "Look at the icons on the menu above. The first icon on the left (an old floppy disk) is for saving your notebook. You can add a new cell with the big **+** button. Then you have the cut, copy, and paste buttons. The arrows are to move your current cell up or down. Then you have a button to \"run\" a code cell, the square icon means \"stop\" and the swirly arrow is to \"restart\" your notebook (if the computation is stuck, for example). Next to that, you have the cell-type selector: Code or Markdown (or others that you can ignore for now).\n",
    "\n",
    "A code cell will show you an input mark, like this: \n",
    "\n",
    "`In [ ]:`\n",
    "\n",
    "Once you execute the code, it will add a number id to the input cell, and produce an output marked like this:\n",
    "\n",
    "`Out [1]:`\n",
    "\n",
    "You can test-drive a code cell by writing some arithmetic operations; Python operators are:\n",
    "```python\n",
    "    +   -   *   /   **   %   //\n",
    "```\n",
    "\n",
    "There's addition, subtraction, multiplication and division. The last three operators are _exponent_ (raise to the power of), _modulo_ (divide and return remainder) and _floor division_.\n",
    "\n",
    "Typing `[shift] + [enter]` will execute the cell and give you the output in a new line, labeled `Out[1]` (the numbering increases each time you execute a cell).\n",
    "\n",
    "_Try it!_ Add a cell with the plus button, enter some operations, and `[shift] + [enter]` to execute."
   ]
  },
  {
   "cell_type": "code",
   "execution_count": null,
   "metadata": {
    "collapsed": true
   },
   "outputs": [],
   "source": []
  },
  {
   "cell_type": "markdown",
   "metadata": {},
   "source": [
    "In addition to arithmetics, you can do comparisons with operators that return Boolean values (`True` or `False`). These are:\n",
    "```python\n",
    "    ==   !=   <   >   <=   >=\n",
    "```\n",
    "\n",
    "In a code cell, you can enter any valid Python code, and type `[shift] + [enter]` to execute it. For example, the simplest code example just prints the message _Hello World!_, like this:\n",
    "```python\n",
    "    print(\"Hello World!\")\n",
    "```\n",
    "\n",
    "You can also define a variable (say `x`) and assign it a value (say, 2), then use that variable in some code. _Try it!_"
   ]
  },
  {
   "cell_type": "code",
   "execution_count": 1,
   "metadata": {},
   "outputs": [
    {
     "name": "stdout",
     "output_type": "stream",
     "text": [
      "Hello World!\n"
     ]
    }
   ],
   "source": [
    "print(\"Hello World!\")"
   ]
  },
  {
   "cell_type": "code",
   "execution_count": 2,
   "metadata": {},
   "outputs": [
    {
     "data": {
      "text/plain": [
       "False"
      ]
     },
     "execution_count": 2,
     "metadata": {},
     "output_type": "execute_result"
    }
   ],
   "source": [
    "x = 2**8\n",
    "x < 64"
   ]
  },
  {
   "cell_type": "markdown",
   "metadata": {},
   "source": [
    "## The world of Jupyter, so far\n",
    "\n",
    "You learned about: \n",
    "\n",
    "* the notebook, \n",
    "* code cells and markdown cells,  \n",
    "* the Jupyter Notebook App, \n",
    "* using a code cell like a calculator,\n",
    "* `[shift] + [enter]` to execute."
   ]
  },
  {
   "cell_type": "markdown",
   "metadata": {},
   "source": [
    "# Next\n",
    "\n",
    "* [Python for Science](http://nbviewer.jupyter.org/github/barbagroup/Caminos/blob/master/2--Python_for_Science.ipynb)"
   ]
  },
  {
   "cell_type": "markdown",
   "metadata": {},
   "source": [
    "---\n",
    "\n",
    "<p style=\"font-size:smaller\">(c) 2017 Lorena A. Barba. Free to use under the Creative Commons Attribution <a href=\"https://creativecommons.org/licenses/by/4.0/\"> CC-BY 4.0 License</a>. Written for the tutorial <a href=\"https://github.com/barbagroup/Caminos\">\"Data Science for a Better World\"</a>, at the GW <a href=\"https://summer.gwu.edu/caminos\">_Caminos al Futuro_</a> Summer program.\n",
    "</p>"
   ]
  }
 ],
 "metadata": {
  "kernelspec": {
   "display_name": "Python 3",
   "language": "python",
   "name": "python3"
  },
  "language_info": {
   "codemirror_mode": {
    "name": "ipython",
    "version": 3
   },
   "file_extension": ".py",
   "mimetype": "text/x-python",
   "name": "python",
   "nbconvert_exporter": "python",
   "pygments_lexer": "ipython3",
   "version": "3.6.2"
  }
 },
 "nbformat": 4,
 "nbformat_minor": 1
}
